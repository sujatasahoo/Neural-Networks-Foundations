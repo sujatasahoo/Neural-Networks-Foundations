{
  "nbformat": 4,
  "nbformat_minor": 0,
  "metadata": {
    "accelerator": "GPU",
    "colab": {
      "name": "sujata_DS_421_Architect_Assignment.ipynb",
      "provenance": [],
      "collapsed_sections": [],
      "include_colab_link": true
    },
    "kernelspec": {
      "display_name": "Python 3",
      "language": "python",
      "name": "python3"
    },
    "language_info": {
      "codemirror_mode": {
        "name": "ipython",
        "version": 3
      },
      "file_extension": ".py",
      "mimetype": "text/x-python",
      "name": "python",
      "nbconvert_exporter": "python",
      "pygments_lexer": "ipython3",
      "version": "3.8.5"
    }
  },
  "cells": [
    {
      "cell_type": "markdown",
      "metadata": {
        "id": "view-in-github",
        "colab_type": "text"
      },
      "source": [
        "<a href=\"https://colab.research.google.com/github/sujatasahoo/Neural-Networks-Foundations/blob/main/sujata_DS_421_Architect_Assignment.ipynb\" target=\"_parent\"><img src=\"https://colab.research.google.com/assets/colab-badge.svg\" alt=\"Open In Colab\"/></a>"
      ]
    },
    {
      "cell_type": "markdown",
      "metadata": {
        "id": "ObyHCH8HvHSf"
      },
      "source": [
        "\n",
        "# *Data Science Unit 4 Sprint 2 Assignment 1*\n",
        "\n",
        "Use TensorFlow Keras and a sample of the [Quickdraw dataset](https://github.com/googlecreativelab/quickdraw-dataset) to build a sketch classification model. The dataset has been sampled to only 10 classes and 10000 observations per class. \n",
        "\n",
        "### Objective\n",
        "\n",
        "- Build a baseline classification model then, run a few experiments with different optimizers and learning rates. \n",
        "- Don't forget to [**switch to GPU if you're running your notebook on Colab!**](https://colab.research.google.com/notebooks/gpu.ipynb)"
      ]
    },
    {
      "cell_type": "code",
      "source": [
        "%tensorflow_version 2.x\n",
        "import tensorflow as tf\n",
        "device_name = tf.test.gpu_device_name()\n",
        "if device_name != '/device:GPU:0':\n",
        "  raise SystemError('GPU device not found')\n",
        "print('Found GPU at: {}'.format(device_name))"
      ],
      "metadata": {
        "colab": {
          "base_uri": "https://localhost:8080/"
        },
        "id": "2Edtl3I51trO",
        "outputId": "5dc5a3f4-1e8b-4f2e-dbf4-cef85f687997"
      },
      "execution_count": null,
      "outputs": [
        {
          "output_type": "stream",
          "name": "stdout",
          "text": [
            "Found GPU at: /device:GPU:0\n"
          ]
        }
      ]
    },
    {
      "cell_type": "code",
      "source": [
        "!pip install --user tensorflow"
      ],
      "metadata": {
        "colab": {
          "base_uri": "https://localhost:8080/"
        },
        "id": "gni7IjHn69SI",
        "outputId": "7d8b2f0f-566a-4548-d49e-d710b551c579"
      },
      "execution_count": null,
      "outputs": [
        {
          "output_type": "stream",
          "name": "stdout",
          "text": [
            "Requirement already satisfied: tensorflow in /usr/local/lib/python3.7/dist-packages (2.8.0)\n",
            "Collecting tf-estimator-nightly==2.8.0.dev2021122109\n",
            "  Downloading tf_estimator_nightly-2.8.0.dev2021122109-py2.py3-none-any.whl (462 kB)\n",
            "\u001b[K     |████████████████████████████████| 462 kB 5.0 MB/s \n",
            "\u001b[?25hRequirement already satisfied: wrapt>=1.11.0 in /usr/local/lib/python3.7/dist-packages (from tensorflow) (1.14.0)\n",
            "Requirement already satisfied: astunparse>=1.6.0 in /usr/local/lib/python3.7/dist-packages (from tensorflow) (1.6.3)\n",
            "Requirement already satisfied: protobuf>=3.9.2 in /usr/local/lib/python3.7/dist-packages (from tensorflow) (3.17.3)\n",
            "Requirement already satisfied: keras-preprocessing>=1.1.1 in /usr/local/lib/python3.7/dist-packages (from tensorflow) (1.1.2)\n",
            "Requirement already satisfied: keras<2.9,>=2.8.0rc0 in /usr/local/lib/python3.7/dist-packages (from tensorflow) (2.8.0)\n",
            "Requirement already satisfied: google-pasta>=0.1.1 in /usr/local/lib/python3.7/dist-packages (from tensorflow) (0.2.0)\n",
            "Requirement already satisfied: opt-einsum>=2.3.2 in /usr/local/lib/python3.7/dist-packages (from tensorflow) (3.3.0)\n",
            "Requirement already satisfied: typing-extensions>=3.6.6 in /usr/local/lib/python3.7/dist-packages (from tensorflow) (4.1.1)\n",
            "Requirement already satisfied: h5py>=2.9.0 in /usr/local/lib/python3.7/dist-packages (from tensorflow) (3.1.0)\n",
            "Requirement already satisfied: tensorboard<2.9,>=2.8 in /usr/local/lib/python3.7/dist-packages (from tensorflow) (2.8.0)\n",
            "Requirement already satisfied: numpy>=1.20 in /usr/local/lib/python3.7/dist-packages (from tensorflow) (1.21.5)\n",
            "Requirement already satisfied: termcolor>=1.1.0 in /usr/local/lib/python3.7/dist-packages (from tensorflow) (1.1.0)\n",
            "Requirement already satisfied: gast>=0.2.1 in /usr/local/lib/python3.7/dist-packages (from tensorflow) (0.5.3)\n",
            "Requirement already satisfied: six>=1.12.0 in /usr/local/lib/python3.7/dist-packages (from tensorflow) (1.15.0)\n",
            "Requirement already satisfied: libclang>=9.0.1 in /usr/local/lib/python3.7/dist-packages (from tensorflow) (13.0.0)\n",
            "Requirement already satisfied: setuptools in /usr/local/lib/python3.7/dist-packages (from tensorflow) (57.4.0)\n",
            "Requirement already satisfied: absl-py>=0.4.0 in /usr/local/lib/python3.7/dist-packages (from tensorflow) (1.0.0)\n",
            "Requirement already satisfied: grpcio<2.0,>=1.24.3 in /usr/local/lib/python3.7/dist-packages (from tensorflow) (1.44.0)\n",
            "Requirement already satisfied: flatbuffers>=1.12 in /usr/local/lib/python3.7/dist-packages (from tensorflow) (2.0)\n",
            "Requirement already satisfied: tensorflow-io-gcs-filesystem>=0.23.1 in /usr/local/lib/python3.7/dist-packages (from tensorflow) (0.24.0)\n",
            "Requirement already satisfied: wheel<1.0,>=0.23.0 in /usr/local/lib/python3.7/dist-packages (from astunparse>=1.6.0->tensorflow) (0.37.1)\n",
            "Requirement already satisfied: cached-property in /usr/local/lib/python3.7/dist-packages (from h5py>=2.9.0->tensorflow) (1.5.2)\n",
            "Requirement already satisfied: tensorboard-plugin-wit>=1.6.0 in /usr/local/lib/python3.7/dist-packages (from tensorboard<2.9,>=2.8->tensorflow) (1.8.1)\n",
            "Requirement already satisfied: markdown>=2.6.8 in /usr/local/lib/python3.7/dist-packages (from tensorboard<2.9,>=2.8->tensorflow) (3.3.6)\n",
            "Requirement already satisfied: werkzeug>=0.11.15 in /usr/local/lib/python3.7/dist-packages (from tensorboard<2.9,>=2.8->tensorflow) (1.0.1)\n",
            "Requirement already satisfied: requests<3,>=2.21.0 in /usr/local/lib/python3.7/dist-packages (from tensorboard<2.9,>=2.8->tensorflow) (2.23.0)\n",
            "Requirement already satisfied: google-auth-oauthlib<0.5,>=0.4.1 in /usr/local/lib/python3.7/dist-packages (from tensorboard<2.9,>=2.8->tensorflow) (0.4.6)\n",
            "Requirement already satisfied: tensorboard-data-server<0.7.0,>=0.6.0 in /usr/local/lib/python3.7/dist-packages (from tensorboard<2.9,>=2.8->tensorflow) (0.6.1)\n",
            "Requirement already satisfied: google-auth<3,>=1.6.3 in /usr/local/lib/python3.7/dist-packages (from tensorboard<2.9,>=2.8->tensorflow) (1.35.0)\n",
            "Requirement already satisfied: rsa<5,>=3.1.4 in /usr/local/lib/python3.7/dist-packages (from google-auth<3,>=1.6.3->tensorboard<2.9,>=2.8->tensorflow) (4.8)\n",
            "Requirement already satisfied: cachetools<5.0,>=2.0.0 in /usr/local/lib/python3.7/dist-packages (from google-auth<3,>=1.6.3->tensorboard<2.9,>=2.8->tensorflow) (4.2.4)\n",
            "Requirement already satisfied: pyasn1-modules>=0.2.1 in /usr/local/lib/python3.7/dist-packages (from google-auth<3,>=1.6.3->tensorboard<2.9,>=2.8->tensorflow) (0.2.8)\n",
            "Requirement already satisfied: requests-oauthlib>=0.7.0 in /usr/local/lib/python3.7/dist-packages (from google-auth-oauthlib<0.5,>=0.4.1->tensorboard<2.9,>=2.8->tensorflow) (1.3.1)\n",
            "Requirement already satisfied: importlib-metadata>=4.4 in /usr/local/lib/python3.7/dist-packages (from markdown>=2.6.8->tensorboard<2.9,>=2.8->tensorflow) (4.11.3)\n",
            "Requirement already satisfied: zipp>=0.5 in /usr/local/lib/python3.7/dist-packages (from importlib-metadata>=4.4->markdown>=2.6.8->tensorboard<2.9,>=2.8->tensorflow) (3.8.0)\n",
            "Requirement already satisfied: pyasn1<0.5.0,>=0.4.6 in /usr/local/lib/python3.7/dist-packages (from pyasn1-modules>=0.2.1->google-auth<3,>=1.6.3->tensorboard<2.9,>=2.8->tensorflow) (0.4.8)\n",
            "Requirement already satisfied: certifi>=2017.4.17 in /usr/local/lib/python3.7/dist-packages (from requests<3,>=2.21.0->tensorboard<2.9,>=2.8->tensorflow) (2021.10.8)\n",
            "Requirement already satisfied: urllib3!=1.25.0,!=1.25.1,<1.26,>=1.21.1 in /usr/local/lib/python3.7/dist-packages (from requests<3,>=2.21.0->tensorboard<2.9,>=2.8->tensorflow) (1.24.3)\n",
            "Requirement already satisfied: chardet<4,>=3.0.2 in /usr/local/lib/python3.7/dist-packages (from requests<3,>=2.21.0->tensorboard<2.9,>=2.8->tensorflow) (3.0.4)\n",
            "Requirement already satisfied: idna<3,>=2.5 in /usr/local/lib/python3.7/dist-packages (from requests<3,>=2.21.0->tensorboard<2.9,>=2.8->tensorflow) (2.10)\n",
            "Requirement already satisfied: oauthlib>=3.0.0 in /usr/local/lib/python3.7/dist-packages (from requests-oauthlib>=0.7.0->google-auth-oauthlib<0.5,>=0.4.1->tensorboard<2.9,>=2.8->tensorflow) (3.2.0)\n",
            "Installing collected packages: tf-estimator-nightly\n",
            "Successfully installed tf-estimator-nightly-2.8.0.dev2021122109\n"
          ]
        }
      ]
    },
    {
      "cell_type": "markdown",
      "metadata": {
        "id": "s-Tc3ovEyQ9b"
      },
      "source": [
        "## Load Your Data"
      ]
    },
    {
      "cell_type": "code",
      "metadata": {
        "id": "CkU0pAYCvU8o"
      },
      "source": [
        "# imports in first cell \n",
        "import seaborn as sns\n",
        "import pandas as pd\n",
        "import numpy as np\n",
        "import tensorflow as tf \n",
        "import matplotlib.pyplot as plt\n",
        "from sklearn.utils import shuffle\n",
        "\n",
        "# use Sequential to build out your model\n",
        "from tensorflow.keras.models import Sequential\n",
        "\n",
        "# Dense layer is used for Fully Connected Forward Feeding networks\n",
        "from tensorflow.keras.layers import Dense"
      ],
      "execution_count": null,
      "outputs": []
    },
    {
      "cell_type": "markdown",
      "metadata": {
        "id": "UT2HFvSgDlFQ"
      },
      "source": [
        "Note that the 28x28 quickdraw images have already been \"flattened\" into 784: dimensional vectors"
      ]
    },
    {
      "cell_type": "code",
      "metadata": {
        "id": "S1XYJRQKLj1B",
        "colab": {
          "base_uri": "https://localhost:8080/"
        },
        "outputId": "c35b536a-e97f-46c6-bbd4-2b437af0f2e8"
      },
      "source": [
        "# load the quickdraw data set\n",
        "!git clone https://github.com/LambdaSchool/DS-Unit-4-Sprint-2-Neural-Networks\n",
        "data = np.load('/content/DS-Unit-4-Sprint-2-Neural-Networks/quickdraw10.npz')\n",
        "\n",
        "X = data['arr_0']\n",
        "y = data['arr_1']\n",
        "\n",
        "print(X.shape)\n",
        "print(y.shape)"
      ],
      "execution_count": null,
      "outputs": [
        {
          "output_type": "stream",
          "name": "stdout",
          "text": [
            "Cloning into 'DS-Unit-4-Sprint-2-Neural-Networks'...\n",
            "remote: Enumerating objects: 505, done.\u001b[K\n",
            "remote: Counting objects: 100% (141/141), done.\u001b[K\n",
            "remote: Compressing objects: 100% (92/92), done.\u001b[K\n",
            "remote: Total 505 (delta 73), reused 95 (delta 48), pack-reused 364\u001b[K\n",
            "Receiving objects: 100% (505/505), 83.68 MiB | 8.09 MiB/s, done.\n",
            "Resolving deltas: 100% (256/256), done.\n",
            "(100000, 784)\n",
            "(100000,)\n"
          ]
        }
      ]
    },
    {
      "cell_type": "code",
      "source": [
        "#row vector\n",
        "X[0].shape"
      ],
      "metadata": {
        "colab": {
          "base_uri": "https://localhost:8080/"
        },
        "id": "qYmBq8VR8BTF",
        "outputId": "67d8942b-5d18-4026-a8fe-60906634747a"
      },
      "execution_count": null,
      "outputs": [
        {
          "output_type": "execute_result",
          "data": {
            "text/plain": [
              "(784,)"
            ]
          },
          "metadata": {},
          "execution_count": 5
        }
      ]
    },
    {
      "cell_type": "code",
      "source": [
        "X[0]"
      ],
      "metadata": {
        "colab": {
          "base_uri": "https://localhost:8080/"
        },
        "id": "APSbxGVk8Okf",
        "outputId": "077f09e5-10e5-4753-b68d-c3ee2bae0512"
      },
      "execution_count": null,
      "outputs": [
        {
          "output_type": "execute_result",
          "data": {
            "text/plain": [
              "array([  0,   0,   0,   0,   0,   0,   0,   0,   0,   0,   0,   0,   0,\n",
              "         0,   0,   0,   0,   0,   0,   0,   0,   0,   0,   0,   0,   0,\n",
              "         0,   0,   0,   0,   0,   0,   0,   0,   0,   0,   0,   0,   0,\n",
              "         0,   0,   0,  11,  21,  12,   0,   0,   0,   0,   0,   0,   0,\n",
              "         0,  92,  20,   0,   0,   0,   0,   0,   0,   0,   0,   0,   0,\n",
              "         0,   0,   0,  91, 213, 253, 255, 255, 222,  95,   3,   0,   0,\n",
              "         0,   0,   7, 255, 222,   0,   0,   0,   0,   0,   0,   0,   0,\n",
              "         0,   0,   0,  24, 190, 255, 196, 118, 100, 109, 196, 255, 121,\n",
              "         0,   0,   0,   0,   0, 141,  35,   0,   0,   0,   0,   0,   0,\n",
              "         0,   0,   0,   0,   1, 185, 241,  94,   1,   0,   0,   0,   0,\n",
              "        63,  25,   0,   0,   0,   0,   0,   0,   0,   0,   0,   0,   0,\n",
              "         0,   0,   0,   0,   0,   0,  89, 255, 115, 133, 150,  37,   0,\n",
              "         0,   0,   0,   0,   0,   0,   0,   0,   0,   0,   0,   0,   0,\n",
              "         0,   0,   0,   0,   0,   0,   0,   0, 207, 241, 252, 255, 250,\n",
              "       199,   0,   0,   0,   0,   0,   0,   0,   0,   0,   0,   0,   0,\n",
              "         0,   0,   0,   0,   0,   0,   0,   0,  30, 200, 255, 242, 149,\n",
              "       252, 232, 195,   3,   0,   0,   0,   0,   0,   0,   0,   0,   0,\n",
              "         0,   0,   0,   0,   0,   0,   0,   0,   0,  39, 225, 238, 255,\n",
              "        85,   0, 119, 255,  83,   0,   0,   0,   0,   0,   0,   0,   0,\n",
              "         0,   0,   0,   0,   0,   0,   0,   0,   0,   0,  43, 229, 231,\n",
              "       106, 255,  49,   0,   1, 201, 222,   7,   0,   0,   0,   0,   0,\n",
              "         0,   0,   0,   0,   0,   0,   0,   0,   0,   0,   0,  33, 237,\n",
              "       220,  33,  79, 255,  75,   0,   0,  61, 255,  94,   0,   0,   0,\n",
              "         0,   0,   0,   0,   0,   0,   0,   0,   0,   0,   0,   0,   4,\n",
              "       197, 235,  28,   0,   4, 210, 166,   0,   0,   1, 250, 127,   0,\n",
              "         0,   0,   0,   0,   0,   0,   0,   0,   0,   0,   0,   0,   0,\n",
              "         0, 128, 255,  85,   0,   0,   0,  17,  16,   0,   0,   0, 231,\n",
              "       146,   0,   0,   0,   0,   0,   0,   0,   0,   0,   0,   0,   0,\n",
              "         0,   0,  56, 251, 153,   0,   0,   0,   0,   0,   0,   0,   0,\n",
              "         0, 228, 148,   0,   0,   0,   0,   0,   0,   0,   0,   0,   0,\n",
              "         0,   0,   0,   0, 162, 229,  11,   0,   0,   0,   0,   0,   0,\n",
              "         0,   0,   0, 246, 131,   0,   0,   0,   0,   0,   0,   0,   0,\n",
              "         0,   0,   0,   0,   0,   0, 219, 165,   0,   0,   0,   0,   0,\n",
              "         0,   0,   0,   0,  13, 255, 111,   0,   0,   0,   0,   0,   0,\n",
              "         0,   0,   0,   0,   0,   0,   0,  21, 254, 109,   0,   0,   0,\n",
              "         0,   0,   0,   0,   0,   0,  78, 255,  58,   0,   0,   0,   0,\n",
              "         0,   0,   0,   0,   0,   0,   0,   0,   0,  78, 255,  51,   0,\n",
              "         0,   0,   0,   0,   0,   0,   0,   0, 152, 237,   3,   0,   0,\n",
              "         0,   0,   0,   0,   0,   0,   0,   0,   0,   0,   0, 120, 254,\n",
              "         5,   0,   0,   0,   0,   0,   0,   0,   0,   3, 228, 165,   0,\n",
              "         0,   0,   0,   0,   0,   0,   0,   0,   0,   0,   0,   0,   0,\n",
              "       123, 254,   0,   0,   0,   0,   0,   0,   0,   0,   0,  72, 255,\n",
              "        74,   0,   0,   0,   0,   0,   0,   0,   0,   0,   0,   0,   0,\n",
              "         0,   0, 114, 255,  13,   0,   0,   0,   0,   0,   0,   0,   0,\n",
              "       169, 229,   3,   0,   0,   0,   0,   0,   0,   0,   0,   0,   0,\n",
              "         0,   0,   0,   0,  60, 255,  70,   0,   0,   0,   0,   0,   0,\n",
              "         0,  53, 252, 129,   0,   0,   0,   0,   0,   0,   0,   0,   0,\n",
              "         0,   0,   0,   0,   0,   0,   7, 239, 174,   0,   0,   0,   0,\n",
              "         0,   0,   6, 208, 222,  11,   0,   0,   0,   0,   0,   0,   0,\n",
              "         0,   0,   0,   0,   0,   0,   0,   0,   0, 110, 255, 100,   0,\n",
              "         0,   0,   0,   3, 170, 253,  70,   0,   0,   0,   0,   0,   0,\n",
              "         0,   0,   0,   0,   0,   0,   0,   0,   0,   0,   0,   3, 180,\n",
              "       255, 178,  99,  68,  91, 200, 254, 104,   0,   0,   0,   0,   0,\n",
              "         0,   0,   0,   0,   0,   0,   0,   0,   0,   0,   0,   0,   0,\n",
              "         0,   2, 116, 222, 255, 255, 255, 213,  87,   0,   0,   0,   0,\n",
              "         0,   0,   0,   0,   0,   0,   0,   0,   0,   0,   0,   0,   0,\n",
              "         0,   0,   0,   0,   0,   0,  32,  51,  44,   1,   0,   0,   0,\n",
              "         0,   0,   0,   0,   0,   0,   0,   0,   0,   0,   0,   0,   0,\n",
              "         0,   0,   0,   0,   0,   0,   0,   0,   0,   0,   0,   0,   0,\n",
              "         0,   0,   0,   0,   0,   0,   0,   0,   0,   0,   0,   0,   0,\n",
              "         0,   0,   0,   0], dtype=uint8)"
            ]
          },
          "metadata": {},
          "execution_count": 6
        }
      ]
    },
    {
      "cell_type": "markdown",
      "metadata": {
        "id": "mvMjoB_yDZTL"
      },
      "source": [
        "These are the names of the 10 image classes"
      ]
    },
    {
      "cell_type": "code",
      "metadata": {
        "id": "c8qsDqdqvHDd"
      },
      "source": [
        "class_names = ['apple',\n",
        "             'anvil',\n",
        "             'airplane',\n",
        "             'banana',\n",
        "             'The Eiffel Tower',\n",
        "             'The Mona Lisa',\n",
        "             'The Great Wall of China',\n",
        "             'alarm clock',\n",
        "             'ant',\n",
        "             'asparagus']"
      ],
      "execution_count": null,
      "outputs": []
    },
    {
      "cell_type": "markdown",
      "metadata": {
        "id": "VxuY8RYXD9S4"
      },
      "source": [
        "We can explore the data a bit by reshaping the vectors back to images and displaying them with their labels. <br>\n",
        "Turns out the data has 10 blocks of 10,000 images of each of the above labels, in order. <br>\n",
        "So the code below displays the first image of each class."
      ]
    },
    {
      "cell_type": "code",
      "metadata": {
        "id": "Owbm1EbxvA5A",
        "colab": {
          "base_uri": "https://localhost:8080/",
          "height": 289
        },
        "outputId": "611ab3de-0516-474f-f935-cbb46ccb3a24"
      },
      "source": [
        "# these are your 10 unique images\n",
        "plt.figure(figsize=(10,5))\n",
        "start = 0\n",
        "\n",
        "for num, name in enumerate(class_names):\n",
        "    plt.subplot(2,5, num+1)\n",
        "    plt.xticks([])\n",
        "    plt.yticks([])\n",
        "    plt.grid(False)\n",
        "    plt.imshow(X[start].reshape(28,28),cmap=plt.cm.binary)\n",
        "    plt.xlabel(name)\n",
        "    start += 10000\n",
        "plt.show()"
      ],
      "execution_count": null,
      "outputs": [
        {
          "output_type": "display_data",
          "data": {
            "text/plain": [
              "<Figure size 720x360 with 10 Axes>"
            ],
            "image/png": "[encoded data removed]"
          },
          "metadata": {}
        }
      ]
    },
    {
      "cell_type": "markdown",
      "metadata": {
        "id": "Av6i6t5QLj1D"
      },
      "source": [
        "Say hello to the Quickdraw dataset!\n",
        "\n",
        "You'll be using this dataset a lot this week as an alternative to the MNIST digits data set, which we'll use in the guided projects. The nice thing about this dataset is that it's simple, which allows us to focus on our model, its various components, and gradually come to a better understanding of how to build neural networks without worrying about cleaning and prepping our image data much."
      ]
    },
    {
      "cell_type": "code",
      "metadata": {
        "id": "c97_M1WNvTNY"
      },
      "source": [
        "# always a good idea to shuffle your dataset!\n",
        "X, y = shuffle(X, y)"
      ],
      "execution_count": null,
      "outputs": []
    },
    {
      "cell_type": "markdown",
      "metadata": {
        "id": "jb70CbLVyK65"
      },
      "source": [
        "-----\n",
        "\n",
        "## Build Your Baseline Model\n",
        "\n",
        "Make sure that you\n",
        "\n",
        "- **Determine** the dimensionality of your input data by investigating **X**\n",
        "- **Normalize** your input data to values between 0 and 1 \n",
        "- **Determine** the number of neurons in your output layer by investigating **Y**\n",
        "- **Select** `sparse_categorical_crossentropy` as your loss function.\n",
        "- **Select** `sgd` as your optimizer.\n",
        "- **Add** 3 hidden layers to your model with the following number of nodes\n",
        "    - h1 has 500 nodes\n",
        "    - h2 has 250 nodes\n",
        "    - h3 has 100 nodes\n",
        "    \n",
        "- **Set** epochs to 20 \n",
        "- **Use** the `validation_split` keyword in `model.fit()` to automatically create a training / validation dataset from within the model. Specify a percentage, such as `validation_split = 0.2`\n",
        " \n",
        "Not sure what the various parameters are for or what values to assign to them?\n",
        "\n",
        "- Reference the guided project notebook for Sprint 2 Module 1\n",
        "- Reference the [**Keras documentation**](https://keras.io/api/)\n",
        "- Google other examples\n",
        "- Discuss your results with classmates "
      ]
    },
    {
      "cell_type": "code",
      "metadata": {
        "deletable": false,
        "nbgrader": {
          "cell_type": "code",
          "checksum": "ef20dd34df6998e0a50e394d59d58659",
          "grade": false,
          "grade_id": "cell-907b9348d7a2ebb3",
          "locked": false,
          "schema_version": 3,
          "solution": true,
          "task": false
        },
        "id": "f133nwpOLj1G",
        "colab": {
          "base_uri": "https://localhost:8080/"
        },
        "outputId": "924d5440-dbe9-4ec5-f82b-c7b57521e2a8"
      },
      "source": [
        "# get dim of image row vectors and save to input_dim\n",
        "input_dim = X.shape[1]\n",
        "# get number of unique labels and save to n_output_labels\n",
        "#n_output_labels = np.unique(y)\n",
        "n_output_labels= len(np.unique(y))\n",
        "# normalize image data to values between 0 and 1 (by dividing by max pixel value)\n",
        "max_pixel_value = X.max()\n",
        "X_scaled = X/max_pixel_value\n",
        "#X_scaled = X.astype('float32')/X.max()\n",
        "\n",
        "# YOUR CODE HERE\n",
        "\n",
        "\n",
        "\n",
        "input_dim"
      ],
      "execution_count": null,
      "outputs": [
        {
          "output_type": "execute_result",
          "data": {
            "text/plain": [
              "784"
            ]
          },
          "metadata": {},
          "execution_count": 10
        }
      ]
    },
    {
      "cell_type": "code",
      "source": [
        "n_output_labels= len(np.unique(y))\n",
        "n_output_labels"
      ],
      "metadata": {
        "colab": {
          "base_uri": "https://localhost:8080/"
        },
        "id": "1EObsglA9NDH",
        "outputId": "4106784e-1365-4acc-e15e-80fdf3c72d3d"
      },
      "execution_count": null,
      "outputs": [
        {
          "output_type": "execute_result",
          "data": {
            "text/plain": [
              "10"
            ]
          },
          "metadata": {},
          "execution_count": 26
        }
      ]
    },
    {
      "cell_type": "code",
      "source": [
        "max_pixel_value = X.max()\n",
        "X_scaled = X/max_pixel_value\n",
        "X_scaled[0]"
      ],
      "metadata": {
        "colab": {
          "base_uri": "https://localhost:8080/"
        },
        "id": "X-4pkN_q9XwX",
        "outputId": "e5c20b28-a08e-45ac-f11e-9681740cd33a"
      },
      "execution_count": null,
      "outputs": [
        {
          "output_type": "execute_result",
          "data": {
            "text/plain": [
              "array([0.        , 0.        , 0.        , 0.        , 0.        ,\n",
              "       0.        , 0.        , 0.        , 0.        , 0.        ,\n",
              "       0.        , 0.        , 0.        , 0.        , 0.        ,\n",
              "       0.        , 0.        , 0.        , 0.        , 0.        ,\n",
              "       0.        , 0.        , 0.        , 0.        , 0.        ,\n",
              "       0.        , 0.        , 0.        , 0.        , 0.        ,\n",
              "       0.        , 0.        , 0.        , 0.        , 0.        ,\n",
              "       0.        , 0.        , 0.        , 0.        , 0.        ,\n",
              "       0.        , 0.        , 0.        , 0.        , 0.        ,\n",
              "       0.        , 0.        , 0.        , 0.        , 0.        ,\n",
              "       0.        , 0.        , 0.        , 0.        , 0.        ,\n",
              "       0.        , 0.        , 0.        , 0.10588235, 0.70980392,\n",
              "       0.73333333, 0.73333333, 0.73333333, 0.73333333, 0.73333333,\n",
              "       0.73333333, 0.73333333, 0.73333333, 0.73333333, 0.73333333,\n",
              "       0.6745098 , 0.66666667, 0.66666667, 0.66666667, 0.66666667,\n",
              "       0.66666667, 0.66666667, 0.66666667, 0.66666667, 0.66666667,\n",
              "       0.66666667, 0.52941176, 0.04313725, 0.        , 0.        ,\n",
              "       0.        , 0.29411765, 1.        , 0.78039216, 0.73333333,\n",
              "       0.73333333, 0.73333333, 0.73333333, 0.73333333, 0.73333333,\n",
              "       0.74509804, 0.8       , 0.8       , 0.8       , 0.8       ,\n",
              "       0.8       , 0.8       , 0.8       , 0.8       , 0.8       ,\n",
              "       0.8       , 0.8       , 0.8       , 0.8       , 1.        ,\n",
              "       0.45098039, 0.        , 0.        , 0.        , 0.31372549,\n",
              "       1.        , 0.16470588, 0.        , 0.        , 0.        ,\n",
              "       0.        , 0.        , 0.        , 0.        , 0.        ,\n",
              "       0.        , 0.        , 0.        , 0.        , 0.        ,\n",
              "       0.        , 0.        , 0.        , 0.        , 0.        ,\n",
              "       0.        , 0.00392157, 1.        , 0.4745098 , 0.        ,\n",
              "       0.        , 0.        , 0.3372549 , 1.        , 0.14117647,\n",
              "       0.        , 0.        , 0.        , 0.        , 0.        ,\n",
              "       0.        , 0.        , 0.        , 0.        , 0.        ,\n",
              "       0.        , 0.        , 0.        , 0.        , 0.        ,\n",
              "       0.        , 0.        , 0.        , 0.        , 0.03529412,\n",
              "       1.        , 0.44705882, 0.        , 0.        , 0.        ,\n",
              "       0.35686275, 1.        , 0.12156863, 0.        , 0.        ,\n",
              "       0.        , 0.        , 0.        , 0.        , 0.33333333,\n",
              "       0.78431373, 0.76862745, 0.75294118, 0.73333333, 0.68235294,\n",
              "       0.27058824, 0.        , 0.        , 0.        , 0.        ,\n",
              "       0.        , 0.        , 0.06666667, 1.        , 0.41568627,\n",
              "       0.        , 0.        , 0.        , 0.4       , 1.        ,\n",
              "       0.09019608, 0.        , 0.        , 0.        , 0.        ,\n",
              "       0.        , 0.38431373, 0.98431373, 0.95294118, 0.7372549 ,\n",
              "       0.73333333, 0.73333333, 0.92941176, 1.        , 0.61176471,\n",
              "       0.        , 0.        , 0.        , 0.        , 0.        ,\n",
              "       0.09411765, 1.        , 0.38431373, 0.        , 0.        ,\n",
              "       0.        , 0.62352941, 0.90196078, 0.        , 0.        ,\n",
              "       0.        , 0.        , 0.00392157, 0.51372549, 1.        ,\n",
              "       1.        , 0.84313725, 0.04313725, 0.        , 0.        ,\n",
              "       0.19215686, 0.95294118, 1.        , 0.62352941, 0.        ,\n",
              "       0.        , 0.        , 0.        , 0.12941176, 1.        ,\n",
              "       0.35294118, 0.        , 0.        , 0.        , 0.83137255,\n",
              "       0.6627451 , 0.        , 0.        , 0.        , 0.        ,\n",
              "       0.58823529, 1.        , 0.99607843, 0.64705882, 0.01960784,\n",
              "       0.        , 0.        , 0.        , 0.        , 0.09803922,\n",
              "       0.9254902 , 1.        , 0.37254902, 0.        , 0.        ,\n",
              "       0.        , 0.15686275, 1.        , 0.32156863, 0.        ,\n",
              "       0.        , 0.        , 0.91764706, 0.56078431, 0.        ,\n",
              "       0.        , 0.        , 0.40392157, 1.        , 0.63921569,\n",
              "       1.        , 1.        , 0.23921569, 0.        , 0.        ,\n",
              "       0.        , 0.        , 0.        , 0.32156863, 1.        ,\n",
              "       0.97647059, 0.23921569, 0.        , 0.        , 0.19215686,\n",
              "       1.        , 0.29019608, 0.        , 0.        , 0.00392157,\n",
              "       0.98039216, 0.78431373, 0.        , 0.        , 0.09019608,\n",
              "       0.97254902, 0.67843137, 0.39607843, 1.        , 0.98431373,\n",
              "       0.05098039, 0.        , 0.        , 0.        , 0.        ,\n",
              "       0.        , 0.25882353, 1.        , 0.85882353, 0.9254902 ,\n",
              "       0.1372549 , 0.        , 0.21960784, 1.        , 0.25882353,\n",
              "       0.        , 0.        , 0.05882353, 1.        , 0.94117647,\n",
              "       0.        , 0.        , 0.44705882, 0.99607843, 0.13333333,\n",
              "       0.44313725, 1.        , 0.79215686, 0.        , 0.        ,\n",
              "       0.        , 0.        , 0.        , 0.        , 0.25882353,\n",
              "       1.        , 0.30980392, 0.9372549 , 0.59215686, 0.        ,\n",
              "       0.25490196, 1.        , 0.22745098, 0.        , 0.        ,\n",
              "       0.05490196, 0.94901961, 0.83529412, 0.        , 0.        ,\n",
              "       0.81960784, 0.75686275, 0.        , 0.64705882, 1.        ,\n",
              "       0.61960784, 0.        , 0.        , 0.        , 0.        ,\n",
              "       0.        , 0.        , 0.34117647, 1.        , 0.16862745,\n",
              "       0.6627451 , 0.85882353, 0.        , 0.28235294, 1.        ,\n",
              "       0.19607843, 0.        , 0.        , 0.        , 0.75686275,\n",
              "       0.72156863, 0.        , 0.19215686, 1.        , 0.38431373,\n",
              "       0.2745098 , 0.99607843, 0.99215686, 0.77254902, 0.03529412,\n",
              "       0.        , 0.        , 0.        , 0.        , 0.12941176,\n",
              "       0.88235294, 0.86666667, 0.00392157, 0.49803922, 0.98039216,\n",
              "       0.        , 0.31372549, 1.        , 0.16470588, 0.        ,\n",
              "       0.        , 0.        , 0.87058824, 0.60784314, 0.        ,\n",
              "       0.52156863, 0.96470588, 0.1372549 , 0.90588235, 1.        ,\n",
              "       0.69803922, 0.98431373, 0.72941176, 0.03529412, 0.        ,\n",
              "       0.        , 0.16078431, 0.88235294, 0.90588235, 0.16078431,\n",
              "       0.        , 0.49803922, 0.98039216, 0.        , 0.34901961,\n",
              "       1.        , 0.13333333, 0.        , 0.        , 0.        ,\n",
              "       0.94117647, 0.5372549 , 0.        , 0.76862745, 0.74901961,\n",
              "       0.69411765, 1.        , 0.98431373, 0.80392157, 0.83921569,\n",
              "       0.98431373, 0.80784314, 0.55294118, 0.72941176, 0.99215686,\n",
              "       0.90588235, 0.16078431, 0.        , 0.        , 0.49803922,\n",
              "       0.98039216, 0.        , 0.37647059, 1.        , 0.10196078,\n",
              "       0.        , 0.        , 0.        , 0.96862745, 0.50980392,\n",
              "       0.02745098, 0.97254902, 0.76470588, 1.        , 1.        ,\n",
              "       0.98039216, 1.        , 0.83529412, 0.31372549, 0.77647059,\n",
              "       0.94117647, 0.84313725, 0.4627451 , 0.08235294, 0.        ,\n",
              "       0.        , 0.00784314, 0.80784314, 0.98039216, 0.        ,\n",
              "       0.41176471, 1.        , 0.07058824, 0.        , 0.        ,\n",
              "       0.        , 0.99215686, 0.48627451, 0.15294118, 1.        ,\n",
              "       0.98039216, 1.        , 1.        , 1.        , 1.        ,\n",
              "       0.83529412, 0.        , 0.        , 0.        , 0.        ,\n",
              "       0.        , 0.        , 0.        , 0.        , 0.00392157,\n",
              "       0.97254902, 0.98039216, 0.        , 0.44313725, 1.        ,\n",
              "       0.03921569, 0.        , 0.        , 0.01568627, 1.        ,\n",
              "       0.4627451 , 0.12941176, 1.        , 1.        , 1.        ,\n",
              "       1.        , 0.95294118, 0.76862745, 0.83529412, 0.        ,\n",
              "       0.        , 0.        , 0.        , 0.        , 0.        ,\n",
              "       0.        , 0.        , 0.        , 0.8627451 , 0.98039216,\n",
              "       0.        , 0.47058824, 1.        , 0.00784314, 0.        ,\n",
              "       0.        , 0.11372549, 1.        , 0.36862745, 0.09803922,\n",
              "       1.        , 0.98039216, 1.        , 1.        , 0.42352941,\n",
              "       0.76470588, 0.83529412, 0.        , 0.        , 0.        ,\n",
              "       0.        , 0.        , 0.        , 0.        , 0.        ,\n",
              "       0.        , 0.74509804, 0.93333333, 0.        , 0.50196078,\n",
              "       0.97647059, 0.        , 0.        , 0.        , 0.23529412,\n",
              "       1.        , 0.24313725, 0.03529412, 0.94117647, 0.6745098 ,\n",
              "       1.        , 0.83921569, 0.00784314, 0.6627451 , 0.87843137,\n",
              "       0.        , 0.        , 0.        , 0.        , 0.        ,\n",
              "       0.        , 0.        , 0.        , 0.        , 0.39607843,\n",
              "       0.49411765, 0.        , 0.53333333, 0.94509804, 0.        ,\n",
              "       0.        , 0.        , 0.36078431, 1.        , 0.12156863,\n",
              "       0.        , 0.01568627, 0.42745098, 1.        , 0.36862745,\n",
              "       0.        , 0.63921569, 0.99215686, 0.00392157, 0.        ,\n",
              "       0.        , 0.        , 0.        , 0.        , 0.        ,\n",
              "       0.        , 0.        , 0.        , 0.        , 0.        ,\n",
              "       0.56470588, 0.91372549, 0.        , 0.        , 0.        ,\n",
              "       0.43529412, 1.        , 0.48235294, 0.23921569, 0.17254902,\n",
              "       0.39607843, 0.75686275, 0.01568627, 0.        , 0.63921569,\n",
              "       0.93333333, 0.        , 0.        , 0.        , 0.        ,\n",
              "       0.        , 0.        , 0.        , 0.        , 0.        ,\n",
              "       0.        , 0.        , 0.        , 0.59607843, 0.88235294,\n",
              "       0.        , 0.        , 0.        , 0.09019608, 0.71372549,\n",
              "       0.99215686, 1.        , 1.        , 1.        , 1.        ,\n",
              "       0.97647059, 0.93333333, 0.96862745, 0.98039216, 0.86666667,\n",
              "       0.86666667, 0.86666667, 0.86666667, 0.82352941, 0.8       ,\n",
              "       0.8       , 0.8       , 0.8       , 0.8       , 0.73333333,\n",
              "       0.73333333, 0.89803922, 0.85098039, 0.        , 0.        ,\n",
              "       0.        , 0.        , 0.        , 0.10196078, 0.23529412,\n",
              "       0.30196078, 0.36862745, 0.43529412, 0.49803922, 0.54901961,\n",
              "       0.69019608, 0.73333333, 0.6       , 0.6       , 0.6       ,\n",
              "       0.63529412, 0.66666667, 0.66666667, 0.66666667, 0.66666667,\n",
              "       0.66666667, 0.72156863, 0.73333333, 0.73333333, 0.73333333,\n",
              "       0.48627451, 0.        , 0.        , 0.        , 0.        ,\n",
              "       0.        , 0.        , 0.        , 0.        , 0.        ,\n",
              "       0.        , 0.        , 0.        , 0.        , 0.        ,\n",
              "       0.        , 0.        , 0.        , 0.        , 0.        ,\n",
              "       0.        , 0.        , 0.        , 0.        , 0.        ,\n",
              "       0.        , 0.        , 0.        , 0.        , 0.        ,\n",
              "       0.        , 0.        , 0.        , 0.        , 0.        ,\n",
              "       0.        , 0.        , 0.        , 0.        , 0.        ,\n",
              "       0.        , 0.        , 0.        , 0.        , 0.        ,\n",
              "       0.        , 0.        , 0.        , 0.        , 0.        ,\n",
              "       0.        , 0.        , 0.        , 0.        , 0.        ,\n",
              "       0.        , 0.        , 0.        , 0.        ])"
            ]
          },
          "metadata": {},
          "execution_count": 27
        }
      ]
    },
    {
      "cell_type": "code",
      "source": [
        ""
      ],
      "metadata": {
        "id": "8PXW0Pip865F"
      },
      "execution_count": null,
      "outputs": []
    },
    {
      "cell_type": "code",
      "metadata": {
        "id": "vOufsWS3Lj1G"
      },
      "source": [
        "# a check on your data prep \n",
        "assert  X_scaled.max() == 1.0, \"Max pixel value should be 1.0, make sure you normalize your data\""
      ],
      "execution_count": null,
      "outputs": []
    },
    {
      "cell_type": "code",
      "metadata": {
        "deletable": false,
        "id": "zHWblzsMyNkU",
        "nbgrader": {
          "cell_type": "code",
          "checksum": "f0ba174cb72f491f73c3aa7df8ae7ac4",
          "grade": false,
          "grade_id": "cell-b7c96fc46d86725f",
          "locked": false,
          "schema_version": 3,
          "solution": true,
          "task": false
        }
      },
      "source": [
        "# instantiate a sequential object and call it model, then add the layers to your model\n",
        "epochs=20\n",
        "model = Sequential()\n",
        "model.add(Dense(500, activation=\"sigmoid\", input_dim=input_dim)) #Hidden layer 1\n",
        "model.add(Dense(250, activation=\"sigmoid\"))   #Hidden layer 2\n",
        "model.add(Dense(100, activation=\"sigmoid\"))   #Hidden layer 3\n",
        "model.add(Dense(n_output_labels, activation='softmax'))   #output layer\n",
        "# add a compile layer but don't fit your model yet \n",
        "\n",
        "# YOUR CODE HERE\n",
        "\n",
        "model.compile(optimizer='sgd', loss='sparse_categorical_crossentropy', metrics=['accuracy'])"
      ],
      "execution_count": null,
      "outputs": []
    },
    {
      "cell_type": "code",
      "metadata": {
        "id": "ojLnGDklLj1H"
      },
      "source": [
        "# a check on your model architecture \n",
        "n_layers = len(model.get_config()[\"layers\"])\n",
        "assert n_layers == 5, \"You should have 5 layers: input, h1, h2, h3, and output\""
      ],
      "execution_count": null,
      "outputs": []
    },
    {
      "cell_type": "code",
      "metadata": {
        "id": "wMK2_DtJLj1I",
        "colab": {
          "base_uri": "https://localhost:8080/"
        },
        "outputId": "4a33f5b5-9ea5-4729-add2-5383d4470c39"
      },
      "source": [
        "# check out your model summary \n",
        "model.summary()"
      ],
      "execution_count": null,
      "outputs": [
        {
          "output_type": "stream",
          "name": "stdout",
          "text": [
            "Model: \"sequential_2\"\n",
            "_________________________________________________________________\n",
            " Layer (type)                Output Shape              Param #   \n",
            "=================================================================\n",
            " dense_7 (Dense)             (None, 500)               392500    \n",
            "                                                                 \n",
            " dense_8 (Dense)             (None, 250)               125250    \n",
            "                                                                 \n",
            " dense_9 (Dense)             (None, 100)               25100     \n",
            "                                                                 \n",
            " dense_10 (Dense)            (None, 10)                1010      \n",
            "                                                                 \n",
            "=================================================================\n",
            "Total params: 543,860\n",
            "Trainable params: 543,860\n",
            "Non-trainable params: 0\n",
            "_________________________________________________________________\n"
          ]
        }
      ]
    },
    {
      "cell_type": "code",
      "metadata": {
        "id": "DXTSbEiyLj1I",
        "colab": {
          "base_uri": "https://localhost:8080/"
        },
        "outputId": "a3995267-8cb5-44f0-f46b-fb70b7f3cb0a"
      },
      "source": [
        "# fit your model and save training results to history \n",
        "history = model.fit(X_scaled, y, \n",
        "                    epochs=epochs, \n",
        "                    # a held-out validation set will be generated within the model\n",
        "                    validation_split=0.2\n",
        "                   )"
      ],
      "execution_count": null,
      "outputs": [
        {
          "output_type": "stream",
          "name": "stdout",
          "text": [
            "Epoch 1/20\n",
            "2500/2500 [==============================] - 9s 3ms/step - loss: 2.2939 - accuracy: 0.1398 - val_loss: 2.2764 - val_accuracy: 0.1793\n",
            "Epoch 2/20\n",
            "2500/2500 [==============================] - 7s 3ms/step - loss: 2.2353 - accuracy: 0.2752 - val_loss: 2.1611 - val_accuracy: 0.4228\n",
            "Epoch 3/20\n",
            "2500/2500 [==============================] - 7s 3ms/step - loss: 1.9398 - accuracy: 0.4233 - val_loss: 1.6965 - val_accuracy: 0.4719\n",
            "Epoch 4/20\n",
            "2500/2500 [==============================] - 7s 3ms/step - loss: 1.5587 - accuracy: 0.5166 - val_loss: 1.4458 - val_accuracy: 0.5748\n",
            "Epoch 5/20\n",
            "2500/2500 [==============================] - 7s 3ms/step - loss: 1.3426 - accuracy: 0.5888 - val_loss: 1.2489 - val_accuracy: 0.6148\n",
            "Epoch 6/20\n",
            "2500/2500 [==============================] - 7s 3ms/step - loss: 1.1751 - accuracy: 0.6392 - val_loss: 1.1193 - val_accuracy: 0.6571\n",
            "Epoch 7/20\n",
            "2500/2500 [==============================] - 7s 3ms/step - loss: 1.0630 - accuracy: 0.6757 - val_loss: 1.0285 - val_accuracy: 0.6900\n",
            "Epoch 8/20\n",
            "2500/2500 [==============================] - 7s 3ms/step - loss: 0.9958 - accuracy: 0.6977 - val_loss: 0.9823 - val_accuracy: 0.7017\n",
            "Epoch 9/20\n",
            "2500/2500 [==============================] - 7s 3ms/step - loss: 0.9575 - accuracy: 0.7105 - val_loss: 0.9524 - val_accuracy: 0.7119\n",
            "Epoch 10/20\n",
            "2500/2500 [==============================] - 6s 3ms/step - loss: 0.9309 - accuracy: 0.7195 - val_loss: 0.9311 - val_accuracy: 0.7180\n",
            "Epoch 11/20\n",
            "2500/2500 [==============================] - 7s 3ms/step - loss: 0.9097 - accuracy: 0.7270 - val_loss: 0.9151 - val_accuracy: 0.7229\n",
            "Epoch 12/20\n",
            "2500/2500 [==============================] - 6s 3ms/step - loss: 0.8922 - accuracy: 0.7342 - val_loss: 0.8999 - val_accuracy: 0.7279\n",
            "Epoch 13/20\n",
            "2500/2500 [==============================] - 6s 3ms/step - loss: 0.8762 - accuracy: 0.7380 - val_loss: 0.8822 - val_accuracy: 0.7347\n",
            "Epoch 14/20\n",
            "2500/2500 [==============================] - 7s 3ms/step - loss: 0.8615 - accuracy: 0.7440 - val_loss: 0.8691 - val_accuracy: 0.7391\n",
            "Epoch 15/20\n",
            "2500/2500 [==============================] - 6s 3ms/step - loss: 0.8472 - accuracy: 0.7472 - val_loss: 0.8568 - val_accuracy: 0.7442\n",
            "Epoch 16/20\n",
            "2500/2500 [==============================] - 6s 3ms/step - loss: 0.8338 - accuracy: 0.7508 - val_loss: 0.8461 - val_accuracy: 0.7469\n",
            "Epoch 17/20\n",
            "2500/2500 [==============================] - 7s 3ms/step - loss: 0.8203 - accuracy: 0.7557 - val_loss: 0.8302 - val_accuracy: 0.7508\n",
            "Epoch 18/20\n",
            "2500/2500 [==============================] - 7s 3ms/step - loss: 0.8077 - accuracy: 0.7591 - val_loss: 0.8210 - val_accuracy: 0.7531\n",
            "Epoch 19/20\n",
            "2500/2500 [==============================] - 7s 3ms/step - loss: 0.7951 - accuracy: 0.7628 - val_loss: 0.8077 - val_accuracy: 0.7587\n",
            "Epoch 20/20\n",
            "2500/2500 [==============================] - 6s 3ms/step - loss: 0.7839 - accuracy: 0.7666 - val_loss: 0.7959 - val_accuracy: 0.7597\n"
          ]
        }
      ]
    },
    {
      "cell_type": "markdown",
      "metadata": {
        "id": "b0QJURWh-9uv"
      },
      "source": [
        "----\n",
        "### Visualize the Results\n",
        "\n",
        "- Move results in `history` to a dataframe. \n",
        "- Use [**Seaborn**](https://seaborn.pydata.org/generated/seaborn.lineplot.html) to create line plots for both loss and accuracy by epoch. \n",
        "- Analyze the results and write a couple of observations. \n",
        "\n",
        "At what point should we have stopped training the model and why? "
      ]
    },
    {
      "cell_type": "code",
      "metadata": {
        "deletable": false,
        "id": "ijAlzfYKAFaY",
        "nbgrader": {
          "cell_type": "code",
          "checksum": "6ef8cde40701c2ef57cf853b19455125",
          "grade": false,
          "grade_id": "cell-16e647cfc3291a01",
          "locked": false,
          "schema_version": 3,
          "solution": true,
          "task": false
        }
      },
      "source": [
        "# YOUR CODE HERE\n",
        "df = pd.DataFrame.from_records(history.history)\n",
        "n_rows = df.shape[0]\n",
        "#shift the index up by one for plotting epochs\n",
        "df.index = [i for i in range(1, n_rows+1)]"
      ],
      "execution_count": null,
      "outputs": []
    },
    {
      "cell_type": "code",
      "source": [
        "df"
      ],
      "metadata": {
        "colab": {
          "base_uri": "https://localhost:8080/",
          "height": 676
        },
        "id": "p65ivP2qT_SA",
        "outputId": "e87c01ff-988c-4287-e546-0764c320d708"
      },
      "execution_count": null,
      "outputs": [
        {
          "output_type": "execute_result",
          "data": {
            "text/plain": [
              "    accuracy      loss  val_accuracy  val_loss\n",
              "1   0.139800  2.293870       0.17930  2.276431\n",
              "2   0.275175  2.235321       0.42280  2.161139\n",
              "3   0.423263  1.939795       0.47190  1.696523\n",
              "4   0.516587  1.558682       0.57475  1.445796\n",
              "5   0.588812  1.342612       0.61475  1.248949\n",
              "6   0.639162  1.175094       0.65710  1.119294\n",
              "7   0.675675  1.062963       0.69000  1.028454\n",
              "8   0.697662  0.995769       0.70170  0.982284\n",
              "9   0.710463  0.957548       0.71190  0.952396\n",
              "10  0.719513  0.930907       0.71800  0.931113\n",
              "11  0.726975  0.909695       0.72295  0.915062\n",
              "12  0.734175  0.892152       0.72785  0.899914\n",
              "13  0.738025  0.876227       0.73465  0.882225\n",
              "14  0.744012  0.861477       0.73915  0.869139\n",
              "15  0.747238  0.847192       0.74425  0.856750\n",
              "16  0.750750  0.833824       0.74695  0.846098\n",
              "17  0.755725  0.820341       0.75080  0.830157\n",
              "18  0.759125  0.807733       0.75305  0.821014\n",
              "19  0.762850  0.795108       0.75865  0.807692\n",
              "20  0.766600  0.783864       0.75970  0.795888"
            ],
            "text/html": [
              "\n",
              "  <div id=\"df-b9e65510-3df0-4b4a-8637-5c06d3fbfea4\">\n",
              "    <div class=\"colab-df-container\">\n",
              "      <div>\n",
              "<style scoped>\n",
              "    .dataframe tbody tr th:only-of-type {\n",
              "        vertical-align: middle;\n",
              "    }\n",
              "\n",
              "    .dataframe tbody tr th {\n",
              "        vertical-align: top;\n",
              "    }\n",
              "\n",
              "    .dataframe thead th {\n",
              "        text-align: right;\n",
              "    }\n",
              "</style>\n",
              "<table border=\"1\" class=\"dataframe\">\n",
              "  <thead>\n",
              "    <tr style=\"text-align: right;\">\n",
              "      <th></th>\n",
              "      <th>accuracy</th>\n",
              "      <th>loss</th>\n",
              "      <th>val_accuracy</th>\n",
              "      <th>val_loss</th>\n",
              "    </tr>\n",
              "  </thead>\n",
              "  <tbody>\n",
              "    <tr>\n",
              "      <th>1</th>\n",
              "      <td>0.139800</td>\n",
              "      <td>2.293870</td>\n",
              "      <td>0.17930</td>\n",
              "      <td>2.276431</td>\n",
              "    </tr>\n",
              "    <tr>\n",
              "      <th>2</th>\n",
              "      <td>0.275175</td>\n",
              "      <td>2.235321</td>\n",
              "      <td>0.42280</td>\n",
              "      <td>2.161139</td>\n",
              "    </tr>\n",
              "    <tr>\n",
              "      <th>3</th>\n",
              "      <td>0.423263</td>\n",
              "      <td>1.939795</td>\n",
              "      <td>0.47190</td>\n",
              "      <td>1.696523</td>\n",
              "    </tr>\n",
              "    <tr>\n",
              "      <th>4</th>\n",
              "      <td>0.516587</td>\n",
              "      <td>1.558682</td>\n",
              "      <td>0.57475</td>\n",
              "      <td>1.445796</td>\n",
              "    </tr>\n",
              "    <tr>\n",
              "      <th>5</th>\n",
              "      <td>0.588812</td>\n",
              "      <td>1.342612</td>\n",
              "      <td>0.61475</td>\n",
              "      <td>1.248949</td>\n",
              "    </tr>\n",
              "    <tr>\n",
              "      <th>6</th>\n",
              "      <td>0.639162</td>\n",
              "      <td>1.175094</td>\n",
              "      <td>0.65710</td>\n",
              "      <td>1.119294</td>\n",
              "    </tr>\n",
              "    <tr>\n",
              "      <th>7</th>\n",
              "      <td>0.675675</td>\n",
              "      <td>1.062963</td>\n",
              "      <td>0.69000</td>\n",
              "      <td>1.028454</td>\n",
              "    </tr>\n",
              "    <tr>\n",
              "      <th>8</th>\n",
              "      <td>0.697662</td>\n",
              "      <td>0.995769</td>\n",
              "      <td>0.70170</td>\n",
              "      <td>0.982284</td>\n",
              "    </tr>\n",
              "    <tr>\n",
              "      <th>9</th>\n",
              "      <td>0.710463</td>\n",
              "      <td>0.957548</td>\n",
              "      <td>0.71190</td>\n",
              "      <td>0.952396</td>\n",
              "    </tr>\n",
              "    <tr>\n",
              "      <th>10</th>\n",
              "      <td>0.719513</td>\n",
              "      <td>0.930907</td>\n",
              "      <td>0.71800</td>\n",
              "      <td>0.931113</td>\n",
              "    </tr>\n",
              "    <tr>\n",
              "      <th>11</th>\n",
              "      <td>0.726975</td>\n",
              "      <td>0.909695</td>\n",
              "      <td>0.72295</td>\n",
              "      <td>0.915062</td>\n",
              "    </tr>\n",
              "    <tr>\n",
              "      <th>12</th>\n",
              "      <td>0.734175</td>\n",
              "      <td>0.892152</td>\n",
              "      <td>0.72785</td>\n",
              "      <td>0.899914</td>\n",
              "    </tr>\n",
              "    <tr>\n",
              "      <th>13</th>\n",
              "      <td>0.738025</td>\n",
              "      <td>0.876227</td>\n",
              "      <td>0.73465</td>\n",
              "      <td>0.882225</td>\n",
              "    </tr>\n",
              "    <tr>\n",
              "      <th>14</th>\n",
              "      <td>0.744012</td>\n",
              "      <td>0.861477</td>\n",
              "      <td>0.73915</td>\n",
              "      <td>0.869139</td>\n",
              "    </tr>\n",
              "    <tr>\n",
              "      <th>15</th>\n",
              "      <td>0.747238</td>\n",
              "      <td>0.847192</td>\n",
              "      <td>0.74425</td>\n",
              "      <td>0.856750</td>\n",
              "    </tr>\n",
              "    <tr>\n",
              "      <th>16</th>\n",
              "      <td>0.750750</td>\n",
              "      <td>0.833824</td>\n",
              "      <td>0.74695</td>\n",
              "      <td>0.846098</td>\n",
              "    </tr>\n",
              "    <tr>\n",
              "      <th>17</th>\n",
              "      <td>0.755725</td>\n",
              "      <td>0.820341</td>\n",
              "      <td>0.75080</td>\n",
              "      <td>0.830157</td>\n",
              "    </tr>\n",
              "    <tr>\n",
              "      <th>18</th>\n",
              "      <td>0.759125</td>\n",
              "      <td>0.807733</td>\n",
              "      <td>0.75305</td>\n",
              "      <td>0.821014</td>\n",
              "    </tr>\n",
              "    <tr>\n",
              "      <th>19</th>\n",
              "      <td>0.762850</td>\n",
              "      <td>0.795108</td>\n",
              "      <td>0.75865</td>\n",
              "      <td>0.807692</td>\n",
              "    </tr>\n",
              "    <tr>\n",
              "      <th>20</th>\n",
              "      <td>0.766600</td>\n",
              "      <td>0.783864</td>\n",
              "      <td>0.75970</td>\n",
              "      <td>0.795888</td>\n",
              "    </tr>\n",
              "  </tbody>\n",
              "</table>\n",
              "</div>\n",
              "      <button class=\"colab-df-convert\" onclick=\"convertToInteractive('df-b9e65510-3df0-4b4a-8637-5c06d3fbfea4')\"\n",
              "              title=\"Convert this dataframe to an interactive table.\"\n",
              "              style=\"display:none;\">\n",
              "        \n",
              "  <svg xmlns=\"http://www.w3.org/2000/svg\" height=\"24px\"viewBox=\"0 0 24 24\"\n",
              "       width=\"24px\">\n",
              "    <path d=\"M0 0h24v24H0V0z\" fill=\"none\"/>\n",
              "    <path d=\"M18.56 5.44l.94 2.06.94-2.06 2.06-.94-2.06-.94-.94-2.06-.94 2.06-2.06.94zm-11 1L8.5 8.5l.94-2.06 2.06-.94-2.06-.94L8.5 2.5l-.94 2.06-2.06.94zm10 10l.94 2.06.94-2.06 2.06-.94-2.06-.94-.94-2.06-.94 2.06-2.06.94z\"/><path d=\"M17.41 7.96l-1.37-1.37c-.4-.4-.92-.59-1.43-.59-.52 0-1.04.2-1.43.59L10.3 9.45l-7.72 7.72c-.78.78-.78 2.05 0 2.83L4 21.41c.39.39.9.59 1.41.59.51 0 1.02-.2 1.41-.59l7.78-7.78 2.81-2.81c.8-.78.8-2.07 0-2.86zM5.41 20L4 18.59l7.72-7.72 1.47 1.35L5.41 20z\"/>\n",
              "  </svg>\n",
              "      </button>\n",
              "      \n",
              "  <style>\n",
              "    .colab-df-container {\n",
              "      display:flex;\n",
              "      flex-wrap:wrap;\n",
              "      gap: 12px;\n",
              "    }\n",
              "\n",
              "    .colab-df-convert {\n",
              "      background-color: #E8F0FE;\n",
              "      border: none;\n",
              "      border-radius: 50%;\n",
              "      cursor: pointer;\n",
              "      display: none;\n",
              "      fill: #1967D2;\n",
              "      height: 32px;\n",
              "      padding: 0 0 0 0;\n",
              "      width: 32px;\n",
              "    }\n",
              "\n",
              "    .colab-df-convert:hover {\n",
              "      background-color: #E2EBFA;\n",
              "      box-shadow: 0px 1px 2px rgba(60, 64, 67, 0.3), 0px 1px 3px 1px rgba(60, 64, 67, 0.15);\n",
              "      fill: #174EA6;\n",
              "    }\n",
              "\n",
              "    [theme=dark] .colab-df-convert {\n",
              "      background-color: #3B4455;\n",
              "      fill: #D2E3FC;\n",
              "    }\n",
              "\n",
              "    [theme=dark] .colab-df-convert:hover {\n",
              "      background-color: #434B5C;\n",
              "      box-shadow: 0px 1px 3px 1px rgba(0, 0, 0, 0.15);\n",
              "      filter: drop-shadow(0px 1px 2px rgba(0, 0, 0, 0.3));\n",
              "      fill: #FFFFFF;\n",
              "    }\n",
              "  </style>\n",
              "\n",
              "      <script>\n",
              "        const buttonEl =\n",
              "          document.querySelector('#df-b9e65510-3df0-4b4a-8637-5c06d3fbfea4 button.colab-df-convert');\n",
              "        buttonEl.style.display =\n",
              "          google.colab.kernel.accessAllowed ? 'block' : 'none';\n",
              "\n",
              "        async function convertToInteractive(key) {\n",
              "          const element = document.querySelector('#df-b9e65510-3df0-4b4a-8637-5c06d3fbfea4');\n",
              "          const dataTable =\n",
              "            await google.colab.kernel.invokeFunction('convertToInteractive',\n",
              "                                                     [key], {});\n",
              "          if (!dataTable) return;\n",
              "\n",
              "          const docLinkHtml = 'Like what you see? Visit the ' +\n",
              "            '<a target=\"_blank\" href=https://colab.research.google.com/notebooks/data_table.ipynb>data table notebook</a>'\n",
              "            + ' to learn more about interactive tables.';\n",
              "          element.innerHTML = '';\n",
              "          dataTable['output_type'] = 'display_data';\n",
              "          await google.colab.output.renderOutput(dataTable, element);\n",
              "          const docLink = document.createElement('div');\n",
              "          docLink.innerHTML = docLinkHtml;\n",
              "          element.appendChild(docLink);\n",
              "        }\n",
              "      </script>\n",
              "    </div>\n",
              "  </div>\n",
              "  "
            ]
          },
          "metadata": {},
          "execution_count": 39
        }
      ]
    },
    {
      "cell_type": "code",
      "metadata": {
        "id": "jFTzaMcALj1J"
      },
      "source": [
        "# a check on our model training\n",
        "assert df.shape[0] == 20, \"df should have the training results from 20 epochs\""
      ],
      "execution_count": null,
      "outputs": []
    },
    {
      "cell_type": "code",
      "metadata": {
        "deletable": false,
        "nbgrader": {
          "cell_type": "code",
          "checksum": "424d241660318a72ecda935be10485d7",
          "grade": false,
          "grade_id": "cell-96dba18873c4cffc",
          "locked": false,
          "schema_version": 3,
          "solution": true,
          "task": false
        },
        "id": "i6NnocuJLj1J",
        "colab": {
          "base_uri": "https://localhost:8080/",
          "height": 391
        },
        "outputId": "d49c2889-1d78-47cb-f489-53fbc39493d1"
      },
      "source": [
        "# use seaborn to plot loss and accuracy metrics\n",
        "\n",
        "# YOUR CODE HERE\n",
        "plot_cols = [\"loss\", \"val_loss\"]\n",
        "df[plot_cols].plot(figsize=(20,6), grid=True);\n",
        "plt.title(\"Model Loss vs Epoch\");\n",
        "plt.xlabel(\"Epochs\")\n",
        "plt.ylabel(\"Validation Loss\");\n",
        "plt.xticks(df.index);"
      ],
      "execution_count": null,
      "outputs": [
        {
          "output_type": "display_data",
          "data": {
            "text/plain": [
              "<Figure size 1440x432 with 1 Axes>"
            ],
            "image/png": "[encoded data removed]"
          },
          "metadata": {
            "needs_background": "light"
          }
        }
      ]
    },
    {
      "cell_type": "markdown",
      "metadata": {
        "id": "GmjyuTlrLj1K"
      },
      "source": [
        "### Observations \n",
        "\n",
        "Based on the plot of the training and validation loss, answer the following questions. "
      ]
    },
    {
      "cell_type": "markdown",
      "metadata": {
        "id": "NF_mrNmPLj1K"
      },
      "source": [
        "**Was our model able to learn throughout the 20 epochs? Why or why not?**"
      ]
    },
    {
      "cell_type": "markdown",
      "metadata": {
        "deletable": false,
        "nbgrader": {
          "cell_type": "markdown",
          "checksum": "b7713eb32ad3a910a58dfdb9494a9db3",
          "grade": true,
          "grade_id": "cell-820990a8232a858a",
          "locked": false,
          "points": 0,
          "schema_version": 3,
          "solution": true,
          "task": false
        },
        "id": "yL42yLWELj1K"
      },
      "source": [
        "Yes, our model was able to learn the 20 epochos. This is evidenced by the drop in the loss from about 2.3 during the first epoch down to about 0.8 in the last epoch."
      ]
    },
    {
      "cell_type": "markdown",
      "metadata": {
        "id": "_xKObFanLj1K"
      },
      "source": [
        "**Is our model overfitting? Why or why not?**"
      ]
    },
    {
      "cell_type": "markdown",
      "metadata": {
        "deletable": false,
        "nbgrader": {
          "cell_type": "markdown",
          "checksum": "1d30c64465cd35081d70578c20ecf96d",
          "grade": true,
          "grade_id": "cell-33868e7ef6e401b5",
          "locked": false,
          "points": 0,
          "schema_version": 3,
          "solution": true,
          "task": false
        },
        "id": "rx7xa4Z1Lj1L"
      },
      "source": [
        "No, our model is not overfitting. This is evidenced by the fact that there is a very narrow gap between the training and validation curves. If the model was overfitting, we'd expect to see a big difference in the training and validation scores, in plot this would show up a large gap between the training and validation curves(the curves could be loss curves or accuracy curves)."
      ]
    },
    {
      "cell_type": "markdown",
      "metadata": {
        "id": "FIvb1mftLj1L"
      },
      "source": [
        "**Could the model score benefit from additional epochs? Why or why not?**"
      ]
    },
    {
      "cell_type": "markdown",
      "metadata": {
        "deletable": false,
        "nbgrader": {
          "cell_type": "markdown",
          "checksum": "0fc2208e2c78461578fc7a05224066b8",
          "grade": true,
          "grade_id": "cell-5c883f0a3161e469",
          "locked": false,
          "points": 0,
          "schema_version": 3,
          "solution": true,
          "task": false
        },
        "id": "Ww1hBmfMLj1L"
      },
      "source": [
        "No. The derivative of the curve(that is the rate cahnge) near the end of the training. The curve is almost flat. which means that introducing more epchos would not drop the loss by any significant amount. If we want to further decrease the loss of our model, we are going to have to explore other options such as using different activation function or optimizer."
      ]
    },
    {
      "cell_type": "markdown",
      "metadata": {
        "id": "MAhBrcE4yOZe"
      },
      "source": [
        "-----\n",
        "## Change Optimizers\n",
        "\n",
        "Let's compare model performance between different optimizers. \n",
        "- Build a new model, identical to the last one but using `adam` for the optimizer. \n",
        "- Train (fit) the model\n",
        "- Save the modeling results to adam_history, so we don't erase the results from the previous model run\n",
        "- Visualize the training results just as we did for the last model. \n"
      ]
    },
    {
      "cell_type": "code",
      "metadata": {
        "deletable": false,
        "id": "jIW_spOZ0cxy",
        "nbgrader": {
          "cell_type": "code",
          "checksum": "6d30d8c6f4521861a77c9ef04dbde904",
          "grade": false,
          "grade_id": "cell-56663c8a5e75b71f",
          "locked": false,
          "schema_version": 3,
          "solution": true,
          "task": false
        },
        "colab": {
          "base_uri": "https://localhost:8080/"
        },
        "outputId": "29ba5f79-f3c3-4001-c485-fa3a4a375517"
      },
      "source": [
        "# train the same model as above but use the sgd optimizer if you used adam previously (or use adam if you used sgd previously)\n",
        "\n",
        "# YOUR CODE HERE\n",
        "# instantiate a sequential object and call it model, then add the layers to your model\n",
        "epochs=20\n",
        "model = Sequential()\n",
        "model.add(Dense(500, activation=\"sigmoid\", input_dim=input_dim)) #Hidden layer 1\n",
        "model.add(Dense(250, activation=\"sigmoid\"))   #Hidden layer 2\n",
        "model.add(Dense(100, activation=\"sigmoid\"))   #Hidden layer 3\n",
        "model.add(Dense(n_output_labels, activation='softmax'))   #output layer\n",
        "# add a compile layer but don't fit your model yet \n",
        "\n",
        "# YOUR CODE HERE\n",
        "\n",
        "model.compile(optimizer='adam', loss='sparse_categorical_crossentropy', metrics=['accuracy'])\n",
        "adam_history = model.fit(X_scaled, y, epochs=epochs, validation_split=0.2)"
      ],
      "execution_count": null,
      "outputs": [
        {
          "output_type": "stream",
          "name": "stdout",
          "text": [
            "Epoch 1/20\n",
            "2500/2500 [==============================] - 14s 4ms/step - loss: 0.7547 - accuracy: 0.7686 - val_loss: 0.5601 - val_accuracy: 0.8304\n",
            "Epoch 2/20\n",
            "2500/2500 [==============================] - 12s 5ms/step - loss: 0.5005 - accuracy: 0.8469 - val_loss: 0.4657 - val_accuracy: 0.8572\n",
            "Epoch 3/20\n",
            "2500/2500 [==============================] - 11s 4ms/step - loss: 0.4195 - accuracy: 0.8727 - val_loss: 0.4190 - val_accuracy: 0.8739\n",
            "Epoch 4/20\n",
            "2500/2500 [==============================] - 11s 4ms/step - loss: 0.3617 - accuracy: 0.8902 - val_loss: 0.4056 - val_accuracy: 0.8774\n",
            "Epoch 5/20\n",
            "2500/2500 [==============================] - 12s 5ms/step - loss: 0.3167 - accuracy: 0.9043 - val_loss: 0.4009 - val_accuracy: 0.8812\n",
            "Epoch 6/20\n",
            "2500/2500 [==============================] - 11s 4ms/step - loss: 0.2779 - accuracy: 0.9168 - val_loss: 0.3976 - val_accuracy: 0.8841\n",
            "Epoch 7/20\n",
            "2500/2500 [==============================] - 11s 4ms/step - loss: 0.2442 - accuracy: 0.9260 - val_loss: 0.4107 - val_accuracy: 0.8813\n",
            "Epoch 8/20\n",
            "2500/2500 [==============================] - 11s 5ms/step - loss: 0.2142 - accuracy: 0.9351 - val_loss: 0.4287 - val_accuracy: 0.8837\n",
            "Epoch 9/20\n",
            "2500/2500 [==============================] - 11s 4ms/step - loss: 0.1859 - accuracy: 0.9441 - val_loss: 0.4483 - val_accuracy: 0.8813\n",
            "Epoch 10/20\n",
            "2500/2500 [==============================] - 15s 6ms/step - loss: 0.1607 - accuracy: 0.9516 - val_loss: 0.4469 - val_accuracy: 0.8836\n",
            "Epoch 11/20\n",
            "2500/2500 [==============================] - 15s 6ms/step - loss: 0.1422 - accuracy: 0.9565 - val_loss: 0.4757 - val_accuracy: 0.8827\n",
            "Epoch 12/20\n",
            "2500/2500 [==============================] - 11s 4ms/step - loss: 0.1214 - accuracy: 0.9633 - val_loss: 0.5341 - val_accuracy: 0.8798\n",
            "Epoch 13/20\n",
            "2500/2500 [==============================] - 11s 4ms/step - loss: 0.1079 - accuracy: 0.9674 - val_loss: 0.5314 - val_accuracy: 0.8834\n",
            "Epoch 14/20\n",
            "2500/2500 [==============================] - 10s 4ms/step - loss: 0.0941 - accuracy: 0.9713 - val_loss: 0.5399 - val_accuracy: 0.8842\n",
            "Epoch 15/20\n",
            "2500/2500 [==============================] - 11s 4ms/step - loss: 0.0845 - accuracy: 0.9742 - val_loss: 0.5747 - val_accuracy: 0.8817\n",
            "Epoch 16/20\n",
            "2500/2500 [==============================] - 10s 4ms/step - loss: 0.0756 - accuracy: 0.9764 - val_loss: 0.6303 - val_accuracy: 0.8788\n",
            "Epoch 17/20\n",
            "2500/2500 [==============================] - 12s 5ms/step - loss: 0.0678 - accuracy: 0.9792 - val_loss: 0.6258 - val_accuracy: 0.8823\n",
            "Epoch 18/20\n",
            "2500/2500 [==============================] - 10s 4ms/step - loss: 0.0595 - accuracy: 0.9816 - val_loss: 0.6563 - val_accuracy: 0.8782\n",
            "Epoch 19/20\n",
            "2500/2500 [==============================] - 16s 6ms/step - loss: 0.0542 - accuracy: 0.9830 - val_loss: 0.6859 - val_accuracy: 0.8794\n",
            "Epoch 20/20\n",
            "2500/2500 [==============================] - 17s 7ms/step - loss: 0.0515 - accuracy: 0.9839 - val_loss: 0.7437 - val_accuracy: 0.8761\n"
          ]
        }
      ]
    },
    {
      "cell_type": "code",
      "metadata": {
        "id": "u9DQypQOLj1L"
      },
      "source": [
        "# a check that we're using the correct optimizer in this model\n",
        "opt_name = model.optimizer.get_config()[\"name\"]\n",
        "assert opt_name == \"Adam\", \"you need to use adam for the optimizer in this model.\""
      ],
      "execution_count": null,
      "outputs": []
    },
    {
      "cell_type": "code",
      "source": [
        "model.get_config()"
      ],
      "metadata": {
        "id": "tPoEj9yzKEiv"
      },
      "execution_count": null,
      "outputs": []
    },
    {
      "cell_type": "code",
      "metadata": {
        "deletable": false,
        "nbgrader": {
          "cell_type": "code",
          "checksum": "1a4c01aa7dbcc832d75b05bffaeaacc8",
          "grade": false,
          "grade_id": "cell-20118d1646215346",
          "locked": false,
          "schema_version": 3,
          "solution": true,
          "task": false
        },
        "id": "wBVj55zVLj1L",
        "colab": {
          "base_uri": "https://localhost:8080/",
          "height": 391
        },
        "outputId": "e8ee613f-c012-49a0-9eb3-f54ec0f47740"
      },
      "source": [
        "# YOUR CODE HERE\n",
        "#move results to df\n",
        "df_adam = pd.DataFrame.from_records(adam_history.history)\n",
        "n_rows = df_adam.shape[0]\n",
        "df_adam.index = [i for i in range(1, n_rows+1)]\n",
        "\n",
        "# plot results\n",
        "# use seaborn to plot loss and accuracy metrics\n",
        "\n",
        "# YOUR CODE HERE\n",
        "plot_cols = [\"loss\", \"val_loss\"]\n",
        "df_adam[plot_cols].plot(figsize=(20,6), grid=True);\n",
        "plt.title(\"Model Loss vs Epoch\");\n",
        "plt.xlabel(\"Epochs\")\n",
        "plt.ylabel(\"Validation Loss\");\n",
        "plt.xticks(df_adam.index);"
      ],
      "execution_count": null,
      "outputs": [
        {
          "output_type": "display_data",
          "data": {
            "text/plain": [
              "<Figure size 1440x432 with 1 Axes>"
            ],
            "image/png": "[encoded data removed]"
          },
          "metadata": {
            "needs_background": "light"
          }
        }
      ]
    },
    {
      "cell_type": "markdown",
      "metadata": {
        "id": "XECc5OtzLj1M"
      },
      "source": [
        "### Observations \n",
        "\n",
        "This plot should look very different from the previous plot. Based on the plot of the training and validation loss, answer the following questions. "
      ]
    },
    {
      "cell_type": "markdown",
      "metadata": {
        "id": "tK8B5CszLj1M"
      },
      "source": [
        "**Is our model overfitting? Why or why not?**"
      ]
    },
    {
      "cell_type": "markdown",
      "metadata": {
        "deletable": false,
        "nbgrader": {
          "cell_type": "markdown",
          "checksum": "fa4141497af675d227aa510feb8db732",
          "grade": true,
          "grade_id": "cell-7e524ccac970c33e",
          "locked": false,
          "points": 0,
          "schema_version": 3,
          "solution": true,
          "task": false
        },
        "id": "Fn6C8NWTLj1M"
      },
      "source": [
        "Yes, this model is overfitting. We can see the huge gap between the training and validation loss curves. As the number of epchos increases beyond 3, the gap steadily increases."
      ]
    },
    {
      "cell_type": "markdown",
      "metadata": {
        "id": "ygXQYH8ILj1M"
      },
      "source": [
        "**Could our model's performance improve by training on more than 20 epochs? Why or why not?**"
      ]
    },
    {
      "cell_type": "markdown",
      "metadata": {
        "deletable": false,
        "nbgrader": {
          "cell_type": "markdown",
          "checksum": "ae03b8b897eb5d052590574ab3bba839",
          "grade": true,
          "grade_id": "cell-456c40e885652955",
          "locked": false,
          "points": 0,
          "schema_version": 3,
          "solution": true,
          "task": false
        },
        "id": "Sa5SRkB1Lj1M"
      },
      "source": [
        "No, by increasing the number of epchos beyond 20 we can actually epect for the loss to increase and the overfitting to increase as well."
      ]
    },
    {
      "cell_type": "markdown",
      "metadata": {
        "id": "bNxtLggeLj1M"
      },
      "source": [
        "**Assuming that you want to stick to this model architecture, what can you do to avoid overfitting?**"
      ]
    },
    {
      "cell_type": "markdown",
      "metadata": {
        "deletable": false,
        "nbgrader": {
          "cell_type": "markdown",
          "checksum": "9f5a9393314231d3ce253363c1df1223",
          "grade": true,
          "grade_id": "cell-74d7def19c66702b",
          "locked": false,
          "points": 0,
          "schema_version": 3,
          "solution": true,
          "task": false
        },
        "id": "tfztMm3rLj1M"
      },
      "source": [
        "Assuming that sticking to this model architecture, I would cut off the training at about 3 epcho were the validation loss is actually lower than the lowest loss in our previous model has essentially no overfitting as indicted by the overlap in the training and loss curves."
      ]
    },
    {
      "cell_type": "markdown",
      "metadata": {
        "id": "ViaTP68cLj1M"
      },
      "source": [
        "------\n",
        "# Conclusion \n",
        "\n",
        "You have observed by comparing the two models that are identical except for the optimizer, that the choice of the optimizer can considerably influence the performance of a neural network. \n",
        "\n",
        "You might not know \n",
        "\n",
        "- why changing the optimizer from Stochastic Gradient Descent over to Adam made a difference.\n",
        "- how Gradient Descent works \n",
        "- or that Adam is known as Adaptive Gradient Descent (i.e., is it a different version of ordinary Gradient Descent). \n",
        "\n",
        "But that's ok - tomorrow's lesson will be a deep dive into Gradient Descent. You'll learn the theory of Gradient Descent, we'll code up Gradient Descent from scratch, and we'll talk about how Adam is different from ordinary Gradient Descent. "
      ]
    },
    {
      "cell_type": "markdown",
      "metadata": {
        "id": "8v_TuVH5Lj1N"
      },
      "source": [
        "-----\n",
        "# Preparation for Tomorrow \n",
        "\n",
        "In preparation for tomorrow, you might need to watch a few videos. I say it might because you may or may not already be comfortable with multi-variate calculus. \n",
        "\n",
        "### Theory of Calculus \n",
        "The theory of Gradient Descent rests on [**the derivative from Calculus**](https://www.youtube.com/watch?v=WUvTyaaNkzM). If you've never taken a Calculus course before, or are a bit rusty, definitely watch this video in preparation for tomorrow's lesson. The takeaway here is to understand the derivative conceptually; you won't be asked to calculate any derivatives by hand. \n",
        "\n",
        "### The Gradient - a Multi-Dimensional Derivative\n",
        "Once you've watched the previous video, you will be ready to understand how to conceptualize a derivative in an N-dimensional space (where N is any number ranging from 2, 3, 4, ..., all the way to a very large number of dimensions N ). [**This video visually explains the multi-dimensional derivative called the Gradient visually**](https://www.youtube.com/watch?v=GkB4vW16QHI) - and that's the takeaway. The point of this video is to help you understand the Gradient visually using 3D surfaces. You should also know that the Gradient is made up of partial derivatives, more on this tomorrow. \n",
        "\n",
        "### Contour Maps \n",
        "It is very common to visual 3D surfaces as 2D contour maps - and we'll be making a lot of use of contour maps to understand Gradient Descent. Watch this video to [**understand the relationship between 3D surfaces and 2D contour maps.**](https://www.youtube.com/watch?v=acdX4YamDtU)\n",
        "\n",
        "### The Calculus of Backpropagation \n",
        "\n",
        "Unlike standard Sklearn ML models, neural networks use Gradient Descent and something called Backpropagatin to learn from the data. [**In order to understand how backpropagation works, you need to understand the Chain Rule in Calculus**](https://www.youtube.com/watch?v=acdX4YamDtU). The takeaway here is to understand how a partial derivative can be decomposed into a product of multiple derivatives. "
      ]
    },
    {
      "cell_type": "markdown",
      "metadata": {
        "id": "XCjBp0vTLj1N"
      },
      "source": [
        "------\n",
        "# Stretch Goals\n",
        "\n",
        "### This Section is Optional!\n",
        "\n",
        "Only after you've completed the above work and watched the recommended videos are you then encouraged to experiment with building a few more models and analyze their results. \n",
        "\n",
        "Here are some suggestions to help you get started. \n",
        "\n",
        "- Train the same model using the Sigmoid and Relu activation functions and note the difference in their learning outcomes. [**Keras docs on activation functions**](https://keras.io/api/layers/activations/). We'll cover the Relu activation function in Sprint 2 Module 3.\n",
        "- Train the same model using normalized and non-normalized data and note the difference in their learning outcomes. \n",
        "\n",
        "\n",
        "The objective here is to get more practice with the Keras API (i.e., building models) and run a couple of experiments to help set you up for future lessons. In order words, we'll be discussing different activation functions and the effect of normalized data on model training."
      ]
    },
    {
      "cell_type": "code",
      "metadata": {
        "id": "5F1VQLmALj1N"
      },
      "source": [
        ""
      ],
      "execution_count": null,
      "outputs": []
    }
  ]
}